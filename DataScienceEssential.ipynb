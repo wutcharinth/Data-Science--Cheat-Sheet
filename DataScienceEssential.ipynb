{
  "nbformat": 4,
  "nbformat_minor": 0,
  "metadata": {
    "colab": {
      "name": "DataScienceEssential.ipynb",
      "provenance": [],
      "include_colab_link": true
    },
    "kernelspec": {
      "name": "python3",
      "display_name": "Python 3"
    }
  },
  "cells": [
    {
      "cell_type": "markdown",
      "metadata": {
        "id": "view-in-github",
        "colab_type": "text"
      },
      "source": [
        "<a href=\"https://colab.research.google.com/github/wutcharinth/Data-Science--Cheat-Sheet/blob/master/DataScienceEssential.ipynb\" target=\"_parent\"><img src=\"https://colab.research.google.com/assets/colab-badge.svg\" alt=\"Open In Colab\"/></a>"
      ]
    },
    {
      "cell_type": "markdown",
      "metadata": {
        "id": "12K5Eqtz4Lew",
        "colab_type": "text"
      },
      "source": [
        "#Data Science Essential"
      ]
    },
    {
      "cell_type": "markdown",
      "metadata": {
        "id": "-crb-fOe4WkN",
        "colab_type": "text"
      },
      "source": [
        "click on the links (blue highlighted), to access the materials"
      ]
    },
    {
      "cell_type": "markdown",
      "metadata": {
        "id": "jYtC5-4k1TaW",
        "colab_type": "text"
      },
      "source": [
        "Review basic  python\n",
        "\n",
        "[Review Python Basic](https://colab.research.google.com/drive/1mpib2P1NNS_z4zr6UURWf4qq5VdoaFCh?usp=sharing)\n",
        "\n",
        "Variable, DataType, Expression, List, Dictionary, Class, Loop, Function\n",
        "\n",
        "---\n",
        "\n"
      ]
    },
    {
      "cell_type": "markdown",
      "metadata": {
        "id": "m8CblueT07lA",
        "colab_type": "text"
      },
      "source": [
        "[Class 1 Data Analytics](https://colab.research.google.com/drive/121LBBGQVquOPs-d6raS_dQaSoz3IKAWO?usp=sharing)\n",
        "\n",
        "Data Analytics is essential to get insights out of massive amount of data. Through basic stats, and visualizations. It is the primary step before drilling down to more advance techniques to get deeper insights by using data science.\n",
        "\n",
        "---\n",
        "\n"
      ]
    },
    {
      "cell_type": "markdown",
      "metadata": {
        "id": "yPVekuqW2fJz",
        "colab_type": "text"
      },
      "source": [
        "[Class 2 Prediction models](https://colab.research.google.com/drive/1gf0tyACRjy_oo9A5Naq40Ux2DZ_WPeLY?usp=sharing)\n",
        "\n",
        "We use prediction models in various tasks such as predicting customers, who are likely to purchase a certain product or used for upsell/cross sell. Or may be predict events that might occur in the future, so that business can get prepared for taking the best actions or prevent damages. \n",
        "\n",
        "---\n",
        "\n"
      ]
    },
    {
      "cell_type": "markdown",
      "metadata": {
        "id": "B2ZTOQs_GY3K",
        "colab_type": "text"
      },
      "source": [
        "[Class 3 Customer Segmentation](https://colab.research.google.com/drive/1K95Ztr0uWLbBD4cAAc_-EdlqmLLghRfM?usp=sharing)\n",
        "\n",
        "Customer segmentation is about grouping similar customers based on various information such as purchase behavior, demographic, location etc. together. It is widely used in business for marketing, and provide better services and products.\n",
        "\n",
        "---\n"
      ]
    },
    {
      "cell_type": "markdown",
      "metadata": {
        "id": "VR8jec8B3x12",
        "colab_type": "text"
      },
      "source": [
        "[Class 4 Recommendation system](https://colab.research.google.com/drive/1U2OjnE8dYTVsOh4kRCo6cdJWyR4wNIEF?usp=sharing)\n",
        "\n",
        "Recommendation is one of the core feature for businesses which provide multiple products to customers such as restuarants, e-commerce, travel agencies etc. The main idea is to give recommendations for the next product to purchase. \n",
        "\n",
        "---\n",
        "\n"
      ]
    }
  ]
}